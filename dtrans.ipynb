{
 "cells": [
  {
   "cell_type": "code",
   "execution_count": 14,
   "metadata": {
    "collapsed": true
   },
   "outputs": [],
   "source": [
    "import os\n",
    "import pandas as pd\n",
    "import re"
   ]
  },
  {
   "cell_type": "code",
   "execution_count": 3,
   "metadata": {
    "collapsed": true
   },
   "outputs": [],
   "source": [
    "data_dir = \"./timestamps/\"\n",
    "csvs = sorted(os.listdir(data_dir))\n"
   ]
  },
  {
   "cell_type": "code",
   "execution_count": 4,
   "metadata": {
    "collapsed": true
   },
   "outputs": [],
   "source": [
    "def full_year_dates(timestamp):\n",
    "    timestamp = timestamp.split(\"/\")\n",
    "    if len(timestamp[2]) != 4:\n",
    "        timestamp[2] = \"20\" + timestamp[2]\n",
    "\n",
    "    return \"/\".join(timestamp)\n"
   ]
  },
  {
   "cell_type": "code",
   "execution_count": 204,
   "metadata": {
    "collapsed": true
   },
   "outputs": [],
   "source": [
    "data = pd.read_csv(data_dir + csvs[0], header=None, names=[\"date\", \"time\", \"name\"])"
   ]
  },
  {
   "cell_type": "code",
   "execution_count": 117,
   "metadata": {
    "collapsed": false
   },
   "outputs": [
    {
     "data": {
      "text/plain": [
       "'Aditya (1)-times.csv'"
      ]
     },
     "execution_count": 117,
     "metadata": {},
     "output_type": "execute_result"
    }
   ],
   "source": [
    "csvs[0]"
   ]
  },
  {
   "cell_type": "code",
   "execution_count": 178,
   "metadata": {
    "collapsed": true
   },
   "outputs": [],
   "source": [
    "def clean_dataframe(df, filename):\n",
    "    df.date = df.date.apply(full_year_dates)\n",
    "    df.time = df.time.apply(lambda t: t.strip()).apply(lambda t: pd.Timestamp(t))\n",
    "    df.name = df.name.apply(lambda t: t.strip())\n",
    "    df[\"new_time\"] = data.time\n",
    "    \n",
    "    return df\n"
   ]
  },
  {
   "cell_type": "code",
   "execution_count": 205,
   "metadata": {
    "collapsed": false,
    "scrolled": true
   },
   "outputs": [],
   "source": [
    "cdf = [clean_dataframe(data, csvs[0])]"
   ]
  },
  {
   "cell_type": "code",
   "execution_count": 206,
   "metadata": {
    "collapsed": false,
    "scrolled": true
   },
   "outputs": [
    {
     "name": "stderr",
     "output_type": "stream",
     "text": [
      "/media/379GB/Tools/Anaconda/lib/python3.5/site-packages/ipykernel/__main__.py:17: SettingWithCopyWarning: \n",
      "A value is trying to be set on a copy of a slice from a DataFrame.\n",
      "Try using .loc[row_indexer,col_indexer] = value instead\n",
      "\n",
      "See the caveats in the documentation: http://pandas.pydata.org/pandas-docs/stable/indexing.html#indexing-view-versus-copy\n",
      "/media/379GB/Tools/Anaconda/lib/python3.5/site-packages/ipykernel/__main__.py:19: SettingWithCopyWarning: \n",
      "A value is trying to be set on a copy of a slice from a DataFrame.\n",
      "Try using .loc[row_indexer,col_indexer] = value instead\n",
      "\n",
      "See the caveats in the documentation: http://pandas.pydata.org/pandas-docs/stable/indexing.html#indexing-view-versus-copy\n"
     ]
    }
   ],
   "source": [
    "count_times = {}\n",
    "\n",
    "def tns(d):\n",
    "    count = len(d)\n",
    "\n",
    "    if count > 1:\n",
    "        if not count_times.get(count, False):\n",
    "            interval = pd.Timedelta(60, \"s\") / count\n",
    "            sum_in = interval / 2\n",
    "\n",
    "            times = []\n",
    "            for i in range(count):\n",
    "                times.append(sum_in)\n",
    "                sum_in += interval\n",
    "            count_times[count] = times\n",
    "\n",
    "            d[\"new_time\"] += times\n",
    "        else:\n",
    "            d[\"new_time\"] += count_times[count]\n",
    "    return d\n",
    "\n",
    "\n",
    "new_d =  cdf[0].groupby([\"date\", \"time\"]).transform(tns)\n",
    "new_d[\"date\"] = cdf[0].date\n",
    "del cdf\n",
    "new_d.rename(columns={'new_time': 'time'}, inplace=True)\n",
    "new_d.time = new_d.time.apply(lambda x: x.strftime(\"%I:%M:%S %p\"))\n",
    "\n",
    "new_d[\"cat\"] = pd.Series([re.sub(r\"[\\(-].*\", \"\", csvs[0]).strip()] * len(new_d))\n"
   ]
  },
  {
   "cell_type": "code",
   "execution_count": 207,
   "metadata": {
    "collapsed": false,
    "scrolled": true
   },
   "outputs": [
    {
     "data": {
      "text/html": [
       "<div>\n",
       "<table border=\"1\" class=\"dataframe\">\n",
       "  <thead>\n",
       "    <tr style=\"text-align: right;\">\n",
       "      <th></th>\n",
       "      <th>name</th>\n",
       "      <th>time</th>\n",
       "      <th>date</th>\n",
       "      <th>cat</th>\n",
       "    </tr>\n",
       "  </thead>\n",
       "  <tbody>\n",
       "    <tr>\n",
       "      <th>0</th>\n",
       "      <td>Aditya</td>\n",
       "      <td>10:24:00 PM</td>\n",
       "      <td>02/04/2016</td>\n",
       "      <td>Aditya</td>\n",
       "    </tr>\n",
       "    <tr>\n",
       "      <th>1</th>\n",
       "      <td>Shivam Rana</td>\n",
       "      <td>10:52:15 PM</td>\n",
       "      <td>02/04/2016</td>\n",
       "      <td>Aditya</td>\n",
       "    </tr>\n",
       "    <tr>\n",
       "      <th>2</th>\n",
       "      <td>Shivam Rana</td>\n",
       "      <td>10:52:45 PM</td>\n",
       "      <td>02/04/2016</td>\n",
       "      <td>Aditya</td>\n",
       "    </tr>\n",
       "    <tr>\n",
       "      <th>3</th>\n",
       "      <td>Aditya</td>\n",
       "      <td>10:53:15 PM</td>\n",
       "      <td>02/04/2016</td>\n",
       "      <td>Aditya</td>\n",
       "    </tr>\n",
       "    <tr>\n",
       "      <th>4</th>\n",
       "      <td>Aditya</td>\n",
       "      <td>10:53:45 PM</td>\n",
       "      <td>02/04/2016</td>\n",
       "      <td>Aditya</td>\n",
       "    </tr>\n",
       "    <tr>\n",
       "      <th>5</th>\n",
       "      <td>Shivam Rana</td>\n",
       "      <td>10:54:07 PM</td>\n",
       "      <td>02/04/2016</td>\n",
       "      <td>Aditya</td>\n",
       "    </tr>\n",
       "    <tr>\n",
       "      <th>6</th>\n",
       "      <td>Shivam Rana</td>\n",
       "      <td>10:54:22 PM</td>\n",
       "      <td>02/04/2016</td>\n",
       "      <td>Aditya</td>\n",
       "    </tr>\n",
       "    <tr>\n",
       "      <th>7</th>\n",
       "      <td>Aditya</td>\n",
       "      <td>10:54:37 PM</td>\n",
       "      <td>02/04/2016</td>\n",
       "      <td>Aditya</td>\n",
       "    </tr>\n",
       "    <tr>\n",
       "      <th>8</th>\n",
       "      <td>Aditya</td>\n",
       "      <td>10:54:52 PM</td>\n",
       "      <td>02/04/2016</td>\n",
       "      <td>Aditya</td>\n",
       "    </tr>\n",
       "    <tr>\n",
       "      <th>9</th>\n",
       "      <td>Shivam Rana</td>\n",
       "      <td>10:55:07 PM</td>\n",
       "      <td>02/04/2016</td>\n",
       "      <td>Aditya</td>\n",
       "    </tr>\n",
       "    <tr>\n",
       "      <th>10</th>\n",
       "      <td>Shivam Rana</td>\n",
       "      <td>10:55:22 PM</td>\n",
       "      <td>02/04/2016</td>\n",
       "      <td>Aditya</td>\n",
       "    </tr>\n",
       "    <tr>\n",
       "      <th>11</th>\n",
       "      <td>Shivam Rana</td>\n",
       "      <td>10:55:37 PM</td>\n",
       "      <td>02/04/2016</td>\n",
       "      <td>Aditya</td>\n",
       "    </tr>\n",
       "    <tr>\n",
       "      <th>12</th>\n",
       "      <td>Aditya</td>\n",
       "      <td>10:55:52 PM</td>\n",
       "      <td>02/04/2016</td>\n",
       "      <td>Aditya</td>\n",
       "    </tr>\n",
       "    <tr>\n",
       "      <th>13</th>\n",
       "      <td>Aditya</td>\n",
       "      <td>10:56:07 PM</td>\n",
       "      <td>02/04/2016</td>\n",
       "      <td>Aditya</td>\n",
       "    </tr>\n",
       "    <tr>\n",
       "      <th>14</th>\n",
       "      <td>Aditya</td>\n",
       "      <td>10:56:22 PM</td>\n",
       "      <td>02/04/2016</td>\n",
       "      <td>Aditya</td>\n",
       "    </tr>\n",
       "    <tr>\n",
       "      <th>15</th>\n",
       "      <td>Shivam Rana</td>\n",
       "      <td>10:56:37 PM</td>\n",
       "      <td>02/04/2016</td>\n",
       "      <td>Aditya</td>\n",
       "    </tr>\n",
       "    <tr>\n",
       "      <th>16</th>\n",
       "      <td>Aditya</td>\n",
       "      <td>10:56:52 PM</td>\n",
       "      <td>02/04/2016</td>\n",
       "      <td>Aditya</td>\n",
       "    </tr>\n",
       "    <tr>\n",
       "      <th>17</th>\n",
       "      <td>Shivam Rana</td>\n",
       "      <td>10:57:06 PM</td>\n",
       "      <td>02/04/2016</td>\n",
       "      <td>Aditya</td>\n",
       "    </tr>\n",
       "    <tr>\n",
       "      <th>18</th>\n",
       "      <td>Aditya</td>\n",
       "      <td>10:57:18 PM</td>\n",
       "      <td>02/04/2016</td>\n",
       "      <td>Aditya</td>\n",
       "    </tr>\n",
       "    <tr>\n",
       "      <th>19</th>\n",
       "      <td>Shivam Rana</td>\n",
       "      <td>10:57:30 PM</td>\n",
       "      <td>02/04/2016</td>\n",
       "      <td>Aditya</td>\n",
       "    </tr>\n",
       "    <tr>\n",
       "      <th>20</th>\n",
       "      <td>Aditya</td>\n",
       "      <td>10:57:42 PM</td>\n",
       "      <td>02/04/2016</td>\n",
       "      <td>Aditya</td>\n",
       "    </tr>\n",
       "    <tr>\n",
       "      <th>21</th>\n",
       "      <td>Shivam Rana</td>\n",
       "      <td>10:57:54 PM</td>\n",
       "      <td>02/04/2016</td>\n",
       "      <td>Aditya</td>\n",
       "    </tr>\n",
       "    <tr>\n",
       "      <th>22</th>\n",
       "      <td>Aditya</td>\n",
       "      <td>10:58:04 PM</td>\n",
       "      <td>02/04/2016</td>\n",
       "      <td>Aditya</td>\n",
       "    </tr>\n",
       "    <tr>\n",
       "      <th>23</th>\n",
       "      <td>Aditya</td>\n",
       "      <td>10:58:12 PM</td>\n",
       "      <td>02/04/2016</td>\n",
       "      <td>Aditya</td>\n",
       "    </tr>\n",
       "    <tr>\n",
       "      <th>24</th>\n",
       "      <td>Aditya</td>\n",
       "      <td>10:58:21 PM</td>\n",
       "      <td>02/04/2016</td>\n",
       "      <td>Aditya</td>\n",
       "    </tr>\n",
       "    <tr>\n",
       "      <th>25</th>\n",
       "      <td>Aditya</td>\n",
       "      <td>10:58:29 PM</td>\n",
       "      <td>02/04/2016</td>\n",
       "      <td>Aditya</td>\n",
       "    </tr>\n",
       "    <tr>\n",
       "      <th>26</th>\n",
       "      <td>Aditya</td>\n",
       "      <td>10:58:38 PM</td>\n",
       "      <td>02/04/2016</td>\n",
       "      <td>Aditya</td>\n",
       "    </tr>\n",
       "    <tr>\n",
       "      <th>27</th>\n",
       "      <td>Aditya</td>\n",
       "      <td>10:58:47 PM</td>\n",
       "      <td>02/04/2016</td>\n",
       "      <td>Aditya</td>\n",
       "    </tr>\n",
       "    <tr>\n",
       "      <th>28</th>\n",
       "      <td>Shivam Rana</td>\n",
       "      <td>10:58:55 PM</td>\n",
       "      <td>02/04/2016</td>\n",
       "      <td>Aditya</td>\n",
       "    </tr>\n",
       "    <tr>\n",
       "      <th>29</th>\n",
       "      <td>Aditya</td>\n",
       "      <td>10:59:07 PM</td>\n",
       "      <td>02/04/2016</td>\n",
       "      <td>Aditya</td>\n",
       "    </tr>\n",
       "    <tr>\n",
       "      <th>...</th>\n",
       "      <td>...</td>\n",
       "      <td>...</td>\n",
       "      <td>...</td>\n",
       "      <td>...</td>\n",
       "    </tr>\n",
       "    <tr>\n",
       "      <th>117</th>\n",
       "      <td>Aditya</td>\n",
       "      <td>11:23:15 PM</td>\n",
       "      <td>02/04/2016</td>\n",
       "      <td>Aditya</td>\n",
       "    </tr>\n",
       "    <tr>\n",
       "      <th>118</th>\n",
       "      <td>Aditya</td>\n",
       "      <td>11:23:45 PM</td>\n",
       "      <td>02/04/2016</td>\n",
       "      <td>Aditya</td>\n",
       "    </tr>\n",
       "    <tr>\n",
       "      <th>119</th>\n",
       "      <td>Shivam Rana</td>\n",
       "      <td>11:24:07 PM</td>\n",
       "      <td>02/04/2016</td>\n",
       "      <td>Aditya</td>\n",
       "    </tr>\n",
       "    <tr>\n",
       "      <th>120</th>\n",
       "      <td>Aditya</td>\n",
       "      <td>11:24:22 PM</td>\n",
       "      <td>02/04/2016</td>\n",
       "      <td>Aditya</td>\n",
       "    </tr>\n",
       "    <tr>\n",
       "      <th>121</th>\n",
       "      <td>Shivam Rana</td>\n",
       "      <td>11:24:37 PM</td>\n",
       "      <td>02/04/2016</td>\n",
       "      <td>Aditya</td>\n",
       "    </tr>\n",
       "    <tr>\n",
       "      <th>122</th>\n",
       "      <td>Shivam Rana</td>\n",
       "      <td>11:24:52 PM</td>\n",
       "      <td>02/04/2016</td>\n",
       "      <td>Aditya</td>\n",
       "    </tr>\n",
       "    <tr>\n",
       "      <th>123</th>\n",
       "      <td>Shivam Rana</td>\n",
       "      <td>11:25:04 PM</td>\n",
       "      <td>02/04/2016</td>\n",
       "      <td>Aditya</td>\n",
       "    </tr>\n",
       "    <tr>\n",
       "      <th>124</th>\n",
       "      <td>Shivam Rana</td>\n",
       "      <td>11:25:12 PM</td>\n",
       "      <td>02/04/2016</td>\n",
       "      <td>Aditya</td>\n",
       "    </tr>\n",
       "    <tr>\n",
       "      <th>125</th>\n",
       "      <td>Aditya</td>\n",
       "      <td>11:25:21 PM</td>\n",
       "      <td>02/04/2016</td>\n",
       "      <td>Aditya</td>\n",
       "    </tr>\n",
       "    <tr>\n",
       "      <th>126</th>\n",
       "      <td>Shivam Rana</td>\n",
       "      <td>11:25:29 PM</td>\n",
       "      <td>02/04/2016</td>\n",
       "      <td>Aditya</td>\n",
       "    </tr>\n",
       "    <tr>\n",
       "      <th>127</th>\n",
       "      <td>Aditya</td>\n",
       "      <td>11:25:38 PM</td>\n",
       "      <td>02/04/2016</td>\n",
       "      <td>Aditya</td>\n",
       "    </tr>\n",
       "    <tr>\n",
       "      <th>128</th>\n",
       "      <td>Shivam Rana</td>\n",
       "      <td>11:25:47 PM</td>\n",
       "      <td>02/04/2016</td>\n",
       "      <td>Aditya</td>\n",
       "    </tr>\n",
       "    <tr>\n",
       "      <th>129</th>\n",
       "      <td>Aditya</td>\n",
       "      <td>11:25:55 PM</td>\n",
       "      <td>02/04/2016</td>\n",
       "      <td>Aditya</td>\n",
       "    </tr>\n",
       "    <tr>\n",
       "      <th>130</th>\n",
       "      <td>Aditya</td>\n",
       "      <td>11:26:10 PM</td>\n",
       "      <td>02/04/2016</td>\n",
       "      <td>Aditya</td>\n",
       "    </tr>\n",
       "    <tr>\n",
       "      <th>131</th>\n",
       "      <td>Aditya</td>\n",
       "      <td>11:26:30 PM</td>\n",
       "      <td>02/04/2016</td>\n",
       "      <td>Aditya</td>\n",
       "    </tr>\n",
       "    <tr>\n",
       "      <th>132</th>\n",
       "      <td>Aditya</td>\n",
       "      <td>11:26:50 PM</td>\n",
       "      <td>02/04/2016</td>\n",
       "      <td>Aditya</td>\n",
       "    </tr>\n",
       "    <tr>\n",
       "      <th>133</th>\n",
       "      <td>Shivam Rana</td>\n",
       "      <td>11:29:00 PM</td>\n",
       "      <td>02/04/2016</td>\n",
       "      <td>Aditya</td>\n",
       "    </tr>\n",
       "    <tr>\n",
       "      <th>134</th>\n",
       "      <td>Aditya</td>\n",
       "      <td>11:31:10 PM</td>\n",
       "      <td>02/04/2016</td>\n",
       "      <td>Aditya</td>\n",
       "    </tr>\n",
       "    <tr>\n",
       "      <th>135</th>\n",
       "      <td>Aditya</td>\n",
       "      <td>11:31:30 PM</td>\n",
       "      <td>02/04/2016</td>\n",
       "      <td>Aditya</td>\n",
       "    </tr>\n",
       "    <tr>\n",
       "      <th>136</th>\n",
       "      <td>Shivam Rana</td>\n",
       "      <td>11:31:50 PM</td>\n",
       "      <td>02/04/2016</td>\n",
       "      <td>Aditya</td>\n",
       "    </tr>\n",
       "    <tr>\n",
       "      <th>137</th>\n",
       "      <td>Aditya</td>\n",
       "      <td>11:32:07 PM</td>\n",
       "      <td>02/04/2016</td>\n",
       "      <td>Aditya</td>\n",
       "    </tr>\n",
       "    <tr>\n",
       "      <th>138</th>\n",
       "      <td>Aditya</td>\n",
       "      <td>11:32:22 PM</td>\n",
       "      <td>02/04/2016</td>\n",
       "      <td>Aditya</td>\n",
       "    </tr>\n",
       "    <tr>\n",
       "      <th>139</th>\n",
       "      <td>Shivam Rana</td>\n",
       "      <td>11:32:37 PM</td>\n",
       "      <td>02/04/2016</td>\n",
       "      <td>Aditya</td>\n",
       "    </tr>\n",
       "    <tr>\n",
       "      <th>140</th>\n",
       "      <td>Aditya</td>\n",
       "      <td>11:32:52 PM</td>\n",
       "      <td>02/04/2016</td>\n",
       "      <td>Aditya</td>\n",
       "    </tr>\n",
       "    <tr>\n",
       "      <th>141</th>\n",
       "      <td>Aditya</td>\n",
       "      <td>11:33:05 PM</td>\n",
       "      <td>02/04/2016</td>\n",
       "      <td>Aditya</td>\n",
       "    </tr>\n",
       "    <tr>\n",
       "      <th>142</th>\n",
       "      <td>Aditya</td>\n",
       "      <td>11:33:15 PM</td>\n",
       "      <td>02/04/2016</td>\n",
       "      <td>Aditya</td>\n",
       "    </tr>\n",
       "    <tr>\n",
       "      <th>143</th>\n",
       "      <td>Shivam Rana</td>\n",
       "      <td>11:33:25 PM</td>\n",
       "      <td>02/04/2016</td>\n",
       "      <td>Aditya</td>\n",
       "    </tr>\n",
       "    <tr>\n",
       "      <th>144</th>\n",
       "      <td>Shivam Rana</td>\n",
       "      <td>11:33:35 PM</td>\n",
       "      <td>02/04/2016</td>\n",
       "      <td>Aditya</td>\n",
       "    </tr>\n",
       "    <tr>\n",
       "      <th>145</th>\n",
       "      <td>Aditya</td>\n",
       "      <td>11:33:45 PM</td>\n",
       "      <td>02/04/2016</td>\n",
       "      <td>Aditya</td>\n",
       "    </tr>\n",
       "    <tr>\n",
       "      <th>146</th>\n",
       "      <td>Shivam Rana</td>\n",
       "      <td>11:33:55 PM</td>\n",
       "      <td>02/04/2016</td>\n",
       "      <td>Aditya</td>\n",
       "    </tr>\n",
       "  </tbody>\n",
       "</table>\n",
       "<p>147 rows × 4 columns</p>\n",
       "</div>"
      ],
      "text/plain": [
       "            name         time        date     cat\n",
       "0         Aditya  10:24:00 PM  02/04/2016  Aditya\n",
       "1    Shivam Rana  10:52:15 PM  02/04/2016  Aditya\n",
       "2    Shivam Rana  10:52:45 PM  02/04/2016  Aditya\n",
       "3         Aditya  10:53:15 PM  02/04/2016  Aditya\n",
       "4         Aditya  10:53:45 PM  02/04/2016  Aditya\n",
       "5    Shivam Rana  10:54:07 PM  02/04/2016  Aditya\n",
       "6    Shivam Rana  10:54:22 PM  02/04/2016  Aditya\n",
       "7         Aditya  10:54:37 PM  02/04/2016  Aditya\n",
       "8         Aditya  10:54:52 PM  02/04/2016  Aditya\n",
       "9    Shivam Rana  10:55:07 PM  02/04/2016  Aditya\n",
       "10   Shivam Rana  10:55:22 PM  02/04/2016  Aditya\n",
       "11   Shivam Rana  10:55:37 PM  02/04/2016  Aditya\n",
       "12        Aditya  10:55:52 PM  02/04/2016  Aditya\n",
       "13        Aditya  10:56:07 PM  02/04/2016  Aditya\n",
       "14        Aditya  10:56:22 PM  02/04/2016  Aditya\n",
       "15   Shivam Rana  10:56:37 PM  02/04/2016  Aditya\n",
       "16        Aditya  10:56:52 PM  02/04/2016  Aditya\n",
       "17   Shivam Rana  10:57:06 PM  02/04/2016  Aditya\n",
       "18        Aditya  10:57:18 PM  02/04/2016  Aditya\n",
       "19   Shivam Rana  10:57:30 PM  02/04/2016  Aditya\n",
       "20        Aditya  10:57:42 PM  02/04/2016  Aditya\n",
       "21   Shivam Rana  10:57:54 PM  02/04/2016  Aditya\n",
       "22        Aditya  10:58:04 PM  02/04/2016  Aditya\n",
       "23        Aditya  10:58:12 PM  02/04/2016  Aditya\n",
       "24        Aditya  10:58:21 PM  02/04/2016  Aditya\n",
       "25        Aditya  10:58:29 PM  02/04/2016  Aditya\n",
       "26        Aditya  10:58:38 PM  02/04/2016  Aditya\n",
       "27        Aditya  10:58:47 PM  02/04/2016  Aditya\n",
       "28   Shivam Rana  10:58:55 PM  02/04/2016  Aditya\n",
       "29        Aditya  10:59:07 PM  02/04/2016  Aditya\n",
       "..           ...          ...         ...     ...\n",
       "117       Aditya  11:23:15 PM  02/04/2016  Aditya\n",
       "118       Aditya  11:23:45 PM  02/04/2016  Aditya\n",
       "119  Shivam Rana  11:24:07 PM  02/04/2016  Aditya\n",
       "120       Aditya  11:24:22 PM  02/04/2016  Aditya\n",
       "121  Shivam Rana  11:24:37 PM  02/04/2016  Aditya\n",
       "122  Shivam Rana  11:24:52 PM  02/04/2016  Aditya\n",
       "123  Shivam Rana  11:25:04 PM  02/04/2016  Aditya\n",
       "124  Shivam Rana  11:25:12 PM  02/04/2016  Aditya\n",
       "125       Aditya  11:25:21 PM  02/04/2016  Aditya\n",
       "126  Shivam Rana  11:25:29 PM  02/04/2016  Aditya\n",
       "127       Aditya  11:25:38 PM  02/04/2016  Aditya\n",
       "128  Shivam Rana  11:25:47 PM  02/04/2016  Aditya\n",
       "129       Aditya  11:25:55 PM  02/04/2016  Aditya\n",
       "130       Aditya  11:26:10 PM  02/04/2016  Aditya\n",
       "131       Aditya  11:26:30 PM  02/04/2016  Aditya\n",
       "132       Aditya  11:26:50 PM  02/04/2016  Aditya\n",
       "133  Shivam Rana  11:29:00 PM  02/04/2016  Aditya\n",
       "134       Aditya  11:31:10 PM  02/04/2016  Aditya\n",
       "135       Aditya  11:31:30 PM  02/04/2016  Aditya\n",
       "136  Shivam Rana  11:31:50 PM  02/04/2016  Aditya\n",
       "137       Aditya  11:32:07 PM  02/04/2016  Aditya\n",
       "138       Aditya  11:32:22 PM  02/04/2016  Aditya\n",
       "139  Shivam Rana  11:32:37 PM  02/04/2016  Aditya\n",
       "140       Aditya  11:32:52 PM  02/04/2016  Aditya\n",
       "141       Aditya  11:33:05 PM  02/04/2016  Aditya\n",
       "142       Aditya  11:33:15 PM  02/04/2016  Aditya\n",
       "143  Shivam Rana  11:33:25 PM  02/04/2016  Aditya\n",
       "144  Shivam Rana  11:33:35 PM  02/04/2016  Aditya\n",
       "145       Aditya  11:33:45 PM  02/04/2016  Aditya\n",
       "146  Shivam Rana  11:33:55 PM  02/04/2016  Aditya\n",
       "\n",
       "[147 rows x 4 columns]"
      ]
     },
     "execution_count": 207,
     "metadata": {},
     "output_type": "execute_result"
    }
   ],
   "source": [
    "new_d"
   ]
  },
  {
   "cell_type": "code",
   "execution_count": 203,
   "metadata": {
    "collapsed": false
   },
   "outputs": [
    {
     "data": {
      "text/plain": [
       "'10:43:37 PM'"
      ]
     },
     "execution_count": 203,
     "metadata": {},
     "output_type": "execute_result"
    }
   ],
   "source": [
    "t = pd.Timestamp(\"10:43:37 pm\")\n",
    "t.strftime(\"%I:%M:%S %p\")"
   ]
  },
  {
   "cell_type": "code",
   "execution_count": 76,
   "metadata": {
    "collapsed": false
   },
   "outputs": [
    {
     "data": {
      "text/plain": [
       "Timestamp('2016-04-22 00:00:00')"
      ]
     },
     "execution_count": 76,
     "metadata": {},
     "output_type": "execute_result"
    }
   ],
   "source": [
    "pd.Timestamp(\"22/04/2016\")"
   ]
  },
  {
   "cell_type": "code",
   "execution_count": 64,
   "metadata": {
    "collapsed": true
   },
   "outputs": [],
   "source": [
    "import datetime"
   ]
  },
  {
   "cell_type": "code",
   "execution_count": 112,
   "metadata": {
    "collapsed": false
   },
   "outputs": [
    {
     "data": {
      "text/plain": [
       "Timedelta('0 days 00:00:12')"
      ]
     },
     "execution_count": 112,
     "metadata": {},
     "output_type": "execute_result"
    }
   ],
   "source": [
    "pd.Timedelta(60, unit=\"s\")"
   ]
  },
  {
   "cell_type": "code",
   "execution_count": 125,
   "metadata": {
    "collapsed": false,
    "scrolled": true
   },
   "outputs": [
    {
     "data": {
      "text/plain": [
       "[Timedelta('0 days 00:01:00'),\n",
       " Timedelta('0 days 00:01:00'),\n",
       " Timedelta('0 days 00:01:00'),\n",
       " 433]"
      ]
     },
     "execution_count": 125,
     "metadata": {},
     "output_type": "execute_result"
    }
   ],
   "source": [
    "[pd.Timedelta(60, unit=\"s\")]*3 + [433]"
   ]
  },
  {
   "cell_type": "code",
   "execution_count": 162,
   "metadata": {
    "collapsed": false
   },
   "outputs": [
    {
     "data": {
      "text/plain": [
       "False"
      ]
     },
     "execution_count": 162,
     "metadata": {},
     "output_type": "execute_result"
    }
   ],
   "source": [
    "a = {1:2, 2:3}\n",
    "a.get(3, False)"
   ]
  },
  {
   "cell_type": "code",
   "execution_count": 208,
   "metadata": {
    "collapsed": true
   },
   "outputs": [],
   "source": []
  }
 ],
 "metadata": {
  "kernelspec": {
   "display_name": "Python 3",
   "language": "python",
   "name": "python3"
  },
  "language_info": {
   "codemirror_mode": {
    "name": "ipython",
    "version": 3
   },
   "file_extension": ".py",
   "mimetype": "text/x-python",
   "name": "python",
   "nbconvert_exporter": "python",
   "pygments_lexer": "ipython3",
   "version": "3.5.1"
  }
 },
 "nbformat": 4,
 "nbformat_minor": 0
}
